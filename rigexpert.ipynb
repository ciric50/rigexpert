{
 "cells": [
  {
   "cell_type": "markdown",
   "metadata": {},
   "source": [
    "# ICOM\n",
    "July 14, 2017\n",
    "\n",
    "My attempt at directly talking to the RigExpert AA-54 through Python 3.\n",
    "\n",
    "I'm really only interesting the FRX command, which reports the resistance and reactance of the antenna. The GET and GT commands from their documentation don't work.\n",
    "\n",
    "To set this up, hook up the antenna to the AA-54, then hook up a serial cable from the computer to the AA-54, and finally turn on the AA-54. It should come up in PC mode (if not, push the up arrow). Then you can run this program to get the R and X data."
   ]
  },
  {
   "cell_type": "code",
   "execution_count": 1,
   "metadata": {
    "collapsed": false
   },
   "outputs": [],
   "source": [
    "import serial"
   ]
  },
  {
   "cell_type": "code",
   "execution_count": 2,
   "metadata": {
    "collapsed": true
   },
   "outputs": [],
   "source": [
    "def read_string_response(io, maxchars=12000):\n",
    "    \"\"\"\n",
    "    Read a response from the analyzer.\n",
    "    \n",
    "    Returns the string response if OK, or \"ERROR\" if\n",
    "    there was an error.\n",
    "    \"\"\"\n",
    "    response = \"\"\n",
    "    for k in range(maxchars):\n",
    "        c = io.read(1)\n",
    "        #print(c)\n",
    "        response += c.decode(\"UTF-8\")\n",
    "        #print(\">%s<\" % response)\n",
    "        if response.endswith(\"ERROR\"):\n",
    "            return \"Command error\"\n",
    "        if response.endswith(\"OK\"):\n",
    "            break\n",
    "    return response"
   ]
  },
  {
   "cell_type": "code",
   "execution_count": 3,
   "metadata": {
    "collapsed": true
   },
   "outputs": [],
   "source": [
    "def convert_float(resp1):\n",
    "    \"\"\"\n",
    "    Convert the string response to a list of floats\n",
    "    \"\"\"\n",
    "    result = []\n",
    "    resp = resp1[:-2]  # Remove \"OK\" at end\n",
    "    lines = resp.splitlines()\n",
    "    for instring in lines:\n",
    "        if len(instring) > 0:\n",
    "            x = []\n",
    "            s = instring.replace(\"\\n\",\"\").replace(\"\\r\",\"\").split(\",\")\n",
    "            if len(s) > 0:\n",
    "                for sval in s:\n",
    "                    x.append(float(sval))\n",
    "                result.append(x)\n",
    "    return result"
   ]
  },
  {
   "cell_type": "code",
   "execution_count": 4,
   "metadata": {
    "collapsed": true
   },
   "outputs": [],
   "source": [
    "def frx_command(io, n):\n",
    "    cmd = b\"FRX\"+bytearray(str(n),\"UTF-8\")+b\"\\r\"\n",
    "    io.write(cmd)\n",
    "    response = read_string_response(io)\n",
    "    return [response, convert_float(response[:-2])]"
   ]
  },
  {
   "cell_type": "code",
   "execution_count": 5,
   "metadata": {
    "collapsed": true
   },
   "outputs": [],
   "source": [
    "def command(io, cmd):\n",
    "    \"\"\"\n",
    "    Send a command to the analyzer and get the response.\n",
    "    \"\"\"\n",
    "    io.write(cmd)\n",
    "    response = read_string_response(io)\n",
    "    return response.replace(\"\\n\",\"\").replace(\"\\r\",\"\")"
   ]
  },
  {
   "cell_type": "code",
   "execution_count": 6,
   "metadata": {
    "collapsed": true
   },
   "outputs": [],
   "source": [
    "portname = \"/dev/ttyUSB0\"\n",
    "baud = 38400\n",
    "freq = 52.0    # Frequency in MHz\n",
    "width = 2000   # Width in kHz"
   ]
  },
  {
   "cell_type": "code",
   "execution_count": 7,
   "metadata": {
    "collapsed": false
   },
   "outputs": [],
   "source": [
    "io = serial.Serial(portname,\n",
    "                   baud,\n",
    "                   serial.EIGHTBITS,  # bytesize\n",
    "                   serial.PARITY_NONE,\n",
    "                   stopbits=serial.STOPBITS_ONE,\n",
    "                   timeout=1000)"
   ]
  },
  {
   "cell_type": "code",
   "execution_count": 8,
   "metadata": {
    "collapsed": false
   },
   "outputs": [
    {
     "data": {
      "text/plain": [
       "'OK'"
      ]
     },
     "execution_count": 8,
     "metadata": {},
     "output_type": "execute_result"
    }
   ],
   "source": [
    "command(io, b\"ON\\r\")"
   ]
  },
  {
   "cell_type": "code",
   "execution_count": 9,
   "metadata": {
    "collapsed": false
   },
   "outputs": [
    {
     "data": {
      "text/plain": [
       "'OK'"
      ]
     },
     "execution_count": 9,
     "metadata": {},
     "output_type": "execute_result"
    }
   ],
   "source": [
    "s = b\"FQ\"+bytearray(str(int(1.0e6*freq)),\"UTF-8\")+b\"\\r\"\n",
    "command(io, s)"
   ]
  },
  {
   "cell_type": "code",
   "execution_count": 10,
   "metadata": {
    "collapsed": false
   },
   "outputs": [
    {
     "data": {
      "text/plain": [
       "'OK'"
      ]
     },
     "execution_count": 10,
     "metadata": {},
     "output_type": "execute_result"
    }
   ],
   "source": [
    "s = b\"SW\"+bytearray(str(int(1.0e3*width)),\"UTF-8\")+b\"\\r\"\n",
    "command(io, s)"
   ]
  },
  {
   "cell_type": "code",
   "execution_count": 11,
   "metadata": {
    "collapsed": false
   },
   "outputs": [],
   "source": [
    "result = frx_command(io, 101)"
   ]
  },
  {
   "cell_type": "markdown",
   "metadata": {},
   "source": [
    "To print the complete result in tabular form as returned by the analyzer, use\n",
    "<code>\n",
    "    print(result[0])\n",
    "</code>\n",
    "\n",
    "If you want to see the complete data converted to floating point, use\n",
    "<code>\n",
    "    print(result[1])\n",
    "</code>\n",
    "\n",
    "Below I will print the R and X values around the center frequency."
   ]
  },
  {
   "cell_type": "code",
   "execution_count": 12,
   "metadata": {
    "collapsed": false
   },
   "outputs": [
    {
     "name": "stdout",
     "output_type": "stream",
     "text": [
      "[[51.970294, 48.3, 3.33], [51.990104, 48.31, 3.19], [52.009902, 49.41, 3.84]]\n"
     ]
    }
   ],
   "source": [
    "print(result[1][49:52])"
   ]
  },
  {
   "cell_type": "code",
   "execution_count": 13,
   "metadata": {
    "collapsed": false
   },
   "outputs": [
    {
     "data": {
      "text/plain": [
       "'OK'"
      ]
     },
     "execution_count": 13,
     "metadata": {},
     "output_type": "execute_result"
    }
   ],
   "source": [
    "command(io, b\"OFF\\r\")"
   ]
  },
  {
   "cell_type": "code",
   "execution_count": 14,
   "metadata": {
    "collapsed": false
   },
   "outputs": [],
   "source": [
    "io.flush()\n",
    "io.close()"
   ]
  },
  {
   "cell_type": "markdown",
   "metadata": {
    "collapsed": true
   },
   "source": [
    "The two lines of code below will graph the results if you run them. They require the matplotlib package. The green lines in this example show the center frequency, and the 50 ohm and 0 ohm lines for reference."
   ]
  },
  {
   "cell_type": "code",
   "execution_count": 15,
   "metadata": {
    "collapsed": true
   },
   "outputs": [],
   "source": [
    "def graphit(freq,width,result):\n",
    "    import matplotlib\n",
    "    import matplotlib.pyplot as plt\n",
    "    %matplotlib inline\n",
    "    frz = list(map(list, zip(*result[1])))\n",
    "    plt.plot(frz[0],frz[1],'r-',frz[0],frz[2],'b-',[freq,freq],[-10,80],'g-',[freq-0.001*width,freq+0.001*width],[50,50],'g-',[freq-0.001*width,freq+0.001*width],[0,0],'g-');"
   ]
  },
  {
   "cell_type": "code",
   "execution_count": 16,
   "metadata": {
    "collapsed": false
   },
   "outputs": [
    {
     "data": {
      "image/png": "[encoded data removed]",
      "text/plain": [
       "<matplotlib.figure.Figure at 0x7f036a12bd30>"
      ]
     },
     "metadata": {},
     "output_type": "display_data"
    }
   ],
   "source": [
    "graphit(freq,width,result)"
   ]
  },
  {
   "cell_type": "code",
   "execution_count": null,
   "metadata": {
    "collapsed": true
   },
   "outputs": [],
   "source": []
  }
 ],
 "metadata": {
  "anaconda-cloud": {},
  "kernelspec": {
   "display_name": "Python [conda root]",
   "language": "python",
   "name": "conda-root-py"
  },
  "language_info": {
   "codemirror_mode": {
    "name": "ipython",
    "version": 3
   },
   "file_extension": ".py",
   "mimetype": "text/x-python",
   "name": "python",
   "nbconvert_exporter": "python",
   "pygments_lexer": "ipython3",
   "version": "3.5.3"
  }
 },
 "nbformat": 4,
 "nbformat_minor": 1
}
