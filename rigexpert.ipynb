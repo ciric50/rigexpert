{
 "cells": [
  {
   "cell_type": "markdown",
   "metadata": {},
   "source": [
    "# ICOM\n",
    "July 14, 2017\n",
    "\n",
    "My attempt at directly talking to the RigExpert AA-54 through Python 3.\n",
    "\n",
    "I'm really only interesting the FRX command, which reports the resistance and reactance of the antenna. The GET and GT commands from their documentation don't work.\n",
    "\n",
    "To set this up, hook up the antenna to the AA-54, then hook up a serial cable from the computer to the AA-54, and finally turn on the AA-54. It should come up in PC mode. Then you can run this program to get the R and X data."
   ]
  },
  {
   "cell_type": "code",
   "execution_count": 1,
   "metadata": {
    "collapsed": false
   },
   "outputs": [],
   "source": [
    "import serial"
   ]
  },
  {
   "cell_type": "code",
   "execution_count": 2,
   "metadata": {
    "collapsed": true
   },
   "outputs": [],
   "source": [
    "def read_string_response(io, maxchars=12000):\n",
    "    \"\"\"\n",
    "    Read a response from the analyzer.\n",
    "    \n",
    "    Returns the string response if OK, or \"ERROR\" if\n",
    "    there was an error.\n",
    "    \"\"\"\n",
    "    response = \"\"\n",
    "    for k in range(maxchars):\n",
    "        c = io.read(1)\n",
    "        #print(c)\n",
    "        response += c.decode(\"UTF-8\")\n",
    "        #print(\">%s<\" % response)\n",
    "        if response.endswith(\"ERROR\"):\n",
    "            return \"Command error\"\n",
    "        if response.endswith(\"OK\"):\n",
    "            break\n",
    "    return response"
   ]
  },
  {
   "cell_type": "code",
   "execution_count": 3,
   "metadata": {
    "collapsed": true
   },
   "outputs": [],
   "source": [
    "def convert_float(resp1):\n",
    "    \"\"\"\n",
    "    Convert the string response to a list of floats\n",
    "    \"\"\"\n",
    "    result = []\n",
    "    resp = resp1[:-2]  # Remove \"OK\" at end\n",
    "    lines = resp.splitlines()\n",
    "    for instring in lines:\n",
    "        if len(instring) > 0:\n",
    "            x = []\n",
    "            s = instring.replace(\"\\n\",\"\").replace(\"\\r\",\"\").split(\",\")\n",
    "            if len(s) > 0:\n",
    "                for sval in s:\n",
    "                    x.append(float(sval))\n",
    "                result.append(x)\n",
    "    return result"
   ]
  },
  {
   "cell_type": "code",
   "execution_count": 4,
   "metadata": {
    "collapsed": true
   },
   "outputs": [],
   "source": [
    "def frx_command(io, n):\n",
    "    cmd = b\"FRX\"+bytearray(str(n),\"UTF-8\")+b\"\\r\"\n",
    "    io.write(cmd)\n",
    "    response = read_string_response(io)\n",
    "    return [response, convert_float(response[:-2])]"
   ]
  },
  {
   "cell_type": "code",
   "execution_count": 5,
   "metadata": {
    "collapsed": true
   },
   "outputs": [],
   "source": [
    "def command(io, cmd):\n",
    "    \"\"\"\n",
    "    Send a command to the analyzer and get the response.\n",
    "    \"\"\"\n",
    "    io.write(cmd)\n",
    "    response = read_string_response(io)\n",
    "    return response.replace(\"\\n\",\"\").replace(\"\\r\",\"\")"
   ]
  },
  {
   "cell_type": "code",
   "execution_count": 6,
   "metadata": {
    "collapsed": true
   },
   "outputs": [],
   "source": [
    "portname = \"/dev/ttyUSB0\"\n",
    "baud = 38400"
   ]
  },
  {
   "cell_type": "code",
   "execution_count": 7,
   "metadata": {
    "collapsed": false
   },
   "outputs": [],
   "source": [
    "io = serial.Serial(portname,\n",
    "                   baud,\n",
    "                   serial.EIGHTBITS,  # bytesize\n",
    "                   serial.PARITY_NONE,\n",
    "                   stopbits=serial.STOPBITS_ONE,\n",
    "                   timeout=1000)"
   ]
  },
  {
   "cell_type": "code",
   "execution_count": 8,
   "metadata": {
    "collapsed": false
   },
   "outputs": [
    {
     "data": {
      "text/plain": [
       "'OK'"
      ]
     },
     "execution_count": 8,
     "metadata": {},
     "output_type": "execute_result"
    }
   ],
   "source": [
    "command(io, b\"ON\\r\")"
   ]
  },
  {
   "cell_type": "code",
   "execution_count": 9,
   "metadata": {
    "collapsed": false
   },
   "outputs": [
    {
     "data": {
      "text/plain": [
       "'OK'"
      ]
     },
     "execution_count": 9,
     "metadata": {},
     "output_type": "execute_result"
    }
   ],
   "source": [
    "command(io, b\"FQ14076000\\r\")"
   ]
  },
  {
   "cell_type": "code",
   "execution_count": 10,
   "metadata": {
    "collapsed": false
   },
   "outputs": [
    {
     "data": {
      "text/plain": [
       "'OK'"
      ]
     },
     "execution_count": 10,
     "metadata": {},
     "output_type": "execute_result"
    }
   ],
   "source": [
    "command(io, b\"SW400000\\r\")"
   ]
  },
  {
   "cell_type": "code",
   "execution_count": 11,
   "metadata": {
    "collapsed": false
   },
   "outputs": [],
   "source": [
    "result = frx_command(io, 100)"
   ]
  },
  {
   "cell_type": "code",
   "execution_count": 12,
   "metadata": {
    "collapsed": false
   },
   "outputs": [
    {
     "name": "stdout",
     "output_type": "stream",
     "text": [
      "\r\n",
      "13.876000,25.08,0.97\r\n",
      "13.880000,25.23,1.22\r\n",
      "13.883999,25.41,1.37\r\n",
      "13.888000,26.01,1.64\r\n",
      "13.892001,26.33,2.16\r\n",
      "13.895999,26.67,2.42\r\n",
      "13.899999,26.75,2.58\r\n",
      "13.904000,27.40,2.76\r\n",
      "13.908000,27.58,3.36\r\n",
      "13.911999,28.12,3.81\r\n",
      "13.916000,28.66,3.89\r\n",
      "13.920001,28.63,4.18\r\n",
      "13.923999,29.00,4.37\r\n",
      "13.928001,29.52,4.51\r\n",
      "13.931999,29.96,5.16\r\n",
      "13.936000,30.22,5.17\r\n",
      "13.939999,30.76,5.68\r\n",
      "13.944000,30.95,5.84\r\n",
      "13.948001,31.58,6.02\r\n",
      "13.951999,32.18,6.50\r\n",
      "13.956001,32.51,6.76\r\n",
      "13.959999,33.32,6.76\r\n",
      "13.963999,33.71,6.93\r\n",
      "13.968000,33.89,7.53\r\n",
      "13.972000,34.66,7.56\r\n",
      "13.976000,34.87,7.81\r\n",
      "13.979999,35.20,8.21\r\n",
      "13.984001,36.30,8.50\r\n",
      "13.987999,36.67,8.61\r\n",
      "13.991999,37.13,8.95\r\n",
      "13.996000,38.03,9.14\r\n",
      "14.000000,38.34,9.34\r\n",
      "14.004000,39.22,9.48\r\n",
      "14.008001,39.69,9.71\r\n",
      "14.012001,40.42,9.59\r\n",
      "14.015999,41.29,10.17\r\n",
      "14.020000,41.67,10.42\r\n",
      "14.024000,42.51,10.08\r\n",
      "14.027999,43.44,10.19\r\n",
      "14.032000,43.70,10.39\r\n",
      "14.036001,44.75,10.19\r\n",
      "14.040000,45.58,10.66\r\n",
      "14.043999,46.23,10.67\r\n",
      "14.048000,47.37,10.52\r\n",
      "14.052000,48.15,10.66\r\n",
      "14.055999,48.82,10.65\r\n",
      "14.060000,50.23,10.53\r\n",
      "14.064001,51.01,10.52\r\n",
      "14.068000,51.39,10.55\r\n",
      "14.071999,52.34,10.15\r\n",
      "14.076000,53.28,9.96\r\n",
      "14.079999,54.20,9.65\r\n",
      "14.083999,55.42,9.41\r\n",
      "14.088000,55.89,9.16\r\n",
      "14.092000,57.09,8.79\r\n",
      "14.096000,58.04,8.38\r\n",
      "14.100000,58.76,7.93\r\n",
      "14.104000,59.84,7.58\r\n",
      "14.107999,60.60,6.85\r\n",
      "14.112000,61.62,6.48\r\n",
      "14.116000,63.30,6.07\r\n",
      "14.120000,63.69,5.79\r\n",
      "14.124000,64.23,4.69\r\n",
      "14.128000,65.30,4.12\r\n",
      "14.131999,65.89,3.02\r\n",
      "14.135999,66.95,2.32\r\n",
      "14.140000,68.18,1.50\r\n",
      "14.144000,68.80,0.85\r\n",
      "14.148000,69.31,-0.62\r\n",
      "14.152001,70.07,-0.57\r\n",
      "14.156000,70.45,-2.48\r\n",
      "14.159999,71.61,-2.59\r\n",
      "14.163999,72.33,-4.49\r\n",
      "14.168000,72.63,-4.66\r\n",
      "14.172000,73.47,-5.98\r\n",
      "14.176000,74.15,-7.74\r\n",
      "14.180001,74.43,-8.88\r\n",
      "14.184000,74.66,-10.31\r\n",
      "14.187999,75.83,-11.78\r\n",
      "14.192000,75.38,-12.92\r\n",
      "14.195999,75.68,-13.31\r\n",
      "14.200000,76.30,-15.72\r\n",
      "14.204000,75.84,-16.18\r\n",
      "14.208000,76.98,-17.03\r\n",
      "14.211999,76.44,-19.37\r\n",
      "14.215999,75.66,-20.49\r\n",
      "14.220000,76.02,-21.90\r\n",
      "14.223999,75.28,-23.77\r\n",
      "14.227999,76.81,-24.43\r\n",
      "14.232000,74.85,-26.02\r\n",
      "14.236000,74.60,-27.14\r\n",
      "14.239999,73.86,-29.06\r\n",
      "14.244001,73.46,-29.92\r\n",
      "14.248000,73.69,-30.83\r\n",
      "14.251999,73.53,-32.23\r\n",
      "14.255999,72.08,-32.97\r\n",
      "14.260000,71.86,-33.58\r\n",
      "14.264000,72.04,-34.82\r\n",
      "14.267999,70.36,-35.62\r\n",
      "14.272001,69.61,-37.01\r\n",
      "14.276000,69.04,-38.16\r\n",
      "\r\n",
      "OK\n"
     ]
    }
   ],
   "source": [
    "print(result[0])"
   ]
  },
  {
   "cell_type": "code",
   "execution_count": 13,
   "metadata": {
    "collapsed": false
   },
   "outputs": [
    {
     "name": "stdout",
     "output_type": "stream",
     "text": [
      "[[13.876, 25.08, 0.97], [13.88, 25.23, 1.22], [13.883999, 25.41, 1.37], [13.888, 26.01, 1.64], [13.892001, 26.33, 2.16], [13.895999, 26.67, 2.42], [13.899999, 26.75, 2.58], [13.904, 27.4, 2.76], [13.908, 27.58, 3.36], [13.911999, 28.12, 3.81], [13.916, 28.66, 3.89], [13.920001, 28.63, 4.18], [13.923999, 29.0, 4.37], [13.928001, 29.52, 4.51], [13.931999, 29.96, 5.16], [13.936, 30.22, 5.17], [13.939999, 30.76, 5.68], [13.944, 30.95, 5.84], [13.948001, 31.58, 6.02], [13.951999, 32.18, 6.5], [13.956001, 32.51, 6.76], [13.959999, 33.32, 6.76], [13.963999, 33.71, 6.93], [13.968, 33.89, 7.53], [13.972, 34.66, 7.56], [13.976, 34.87, 7.81], [13.979999, 35.2, 8.21], [13.984001, 36.3, 8.5], [13.987999, 36.67, 8.61], [13.991999, 37.13, 8.95], [13.996, 38.03, 9.14], [14.0, 38.34, 9.34], [14.004, 39.22, 9.48], [14.008001, 39.69, 9.71], [14.012001, 40.42, 9.59], [14.015999, 41.29, 10.17], [14.02, 41.67, 10.42], [14.024, 42.51, 10.08], [14.027999, 43.44, 10.19], [14.032, 43.7, 10.39], [14.036001, 44.75, 10.19], [14.04, 45.58, 10.66], [14.043999, 46.23, 10.67], [14.048, 47.37, 10.52], [14.052, 48.15, 10.66], [14.055999, 48.82, 10.65], [14.06, 50.23, 10.53], [14.064001, 51.01, 10.52], [14.068, 51.39, 10.55], [14.071999, 52.34, 10.15], [14.076, 53.28, 9.96], [14.079999, 54.2, 9.65], [14.083999, 55.42, 9.41], [14.088, 55.89, 9.16], [14.092, 57.09, 8.79], [14.096, 58.04, 8.38], [14.1, 58.76, 7.93], [14.104, 59.84, 7.58], [14.107999, 60.6, 6.85], [14.112, 61.62, 6.48], [14.116, 63.3, 6.07], [14.12, 63.69, 5.79], [14.124, 64.23, 4.69], [14.128, 65.3, 4.12], [14.131999, 65.89, 3.02], [14.135999, 66.95, 2.32], [14.14, 68.18, 1.5], [14.144, 68.8, 0.85], [14.148, 69.31, -0.62], [14.152001, 70.07, -0.57], [14.156, 70.45, -2.48], [14.159999, 71.61, -2.59], [14.163999, 72.33, -4.49], [14.168, 72.63, -4.66], [14.172, 73.47, -5.98], [14.176, 74.15, -7.74], [14.180001, 74.43, -8.88], [14.184, 74.66, -10.31], [14.187999, 75.83, -11.78], [14.192, 75.38, -12.92], [14.195999, 75.68, -13.31], [14.2, 76.3, -15.72], [14.204, 75.84, -16.18], [14.208, 76.98, -17.03], [14.211999, 76.44, -19.37], [14.215999, 75.66, -20.49], [14.22, 76.02, -21.9], [14.223999, 75.28, -23.77], [14.227999, 76.81, -24.43], [14.232, 74.85, -26.02], [14.236, 74.6, -27.14], [14.239999, 73.86, -29.06], [14.244001, 73.46, -29.92], [14.248, 73.69, -30.83], [14.251999, 73.53, -32.23], [14.255999, 72.08, -32.97], [14.26, 71.86, -33.58], [14.264, 72.04, -34.82], [14.267999, 70.36, -35.62], [14.272001, 69.61, -37.01], [14.276, 69.04, -38.16]]\n"
     ]
    }
   ],
   "source": [
    "print(result[1])"
   ]
  },
  {
   "cell_type": "code",
   "execution_count": 14,
   "metadata": {
    "collapsed": false
   },
   "outputs": [
    {
     "data": {
      "text/plain": [
       "'OK'"
      ]
     },
     "execution_count": 14,
     "metadata": {},
     "output_type": "execute_result"
    }
   ],
   "source": [
    "command(io, b\"OFF\\r\")"
   ]
  },
  {
   "cell_type": "code",
   "execution_count": 15,
   "metadata": {
    "collapsed": false
   },
   "outputs": [],
   "source": [
    "io.flush()\n",
    "io.close()"
   ]
  },
  {
   "cell_type": "code",
   "execution_count": null,
   "metadata": {
    "collapsed": true
   },
   "outputs": [],
   "source": []
  }
 ],
 "metadata": {
  "anaconda-cloud": {},
  "kernelspec": {
   "display_name": "Python [conda root]",
   "language": "python",
   "name": "conda-root-py"
  },
  "language_info": {
   "codemirror_mode": {
    "name": "ipython",
    "version": 3
   },
   "file_extension": ".py",
   "mimetype": "text/x-python",
   "name": "python",
   "nbconvert_exporter": "python",
   "pygments_lexer": "ipython3",
   "version": "3.5.3"
  }
 },
 "nbformat": 4,
 "nbformat_minor": 1
}
